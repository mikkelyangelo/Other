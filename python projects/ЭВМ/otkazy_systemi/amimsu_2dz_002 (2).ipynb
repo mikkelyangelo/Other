{
 "cells": [
  {
   "cell_type": "code",
   "execution_count": 2,
   "id": "af840ed0",
   "metadata": {},
   "outputs": [],
   "source": [
    "import numpy as np\n",
    "import matplotlib.pyplot as plt\n",
    "import pandas as pd\n",
    "import sympy as sp"
   ]
  },
  {
   "cell_type": "code",
   "execution_count": 3,
   "id": "342bfa32",
   "metadata": {},
   "outputs": [],
   "source": [
    "np.set_printoptions(precision=2, edgeitems=1000, linewidth=1000, threshold=1000)"
   ]
  },
  {
   "cell_type": "code",
   "execution_count": 4,
   "id": "5cfc418e",
   "metadata": {},
   "outputs": [],
   "source": [
    "G = 1\n",
    "N = 19"
   ]
  },
  {
   "cell_type": "code",
   "execution_count": 5,
   "id": "816030d2",
   "metadata": {},
   "outputs": [
    {
     "name": "stdout",
     "output_type": "stream",
     "text": [
      "λ_A = 2\n",
      "λ_B = 5\n",
      "N_A = 3\n",
      "N_B = 3\n",
      "R_A = 5\n",
      "R_B = 4\n"
     ]
    }
   ],
   "source": [
    "la = G + (N % 3)\n",
    "lb = G + (N % 5)\n",
    "na = 2 + (G % 2)\n",
    "nb = 2 + (N % 2)\n",
    "ra = 4 + (G % 2)\n",
    "rb = 5 - (G % 2)\n",
    "\n",
    "print(f\"\"\"λ_A = {la}\n",
    "λ_B = {lb}\n",
    "N_A = {na}\n",
    "N_B = {nb}\n",
    "R_A = {ra}\n",
    "R_B = {rb}\"\"\")"
   ]
  },
  {
   "cell_type": "code",
   "execution_count": 6,
   "id": "1d3a8c94",
   "metadata": {},
   "outputs": [],
   "source": [
    "class S:\n",
    "    def __init__(self, x, y, a1, a2, b1, b2, color='#0000ff33'):\n",
    "        self.x = x\n",
    "        self.y = y\n",
    "        self.a1 = a1\n",
    "        self.a2 = a2\n",
    "        self.b1 = b1\n",
    "        self.b2 = b2\n",
    "        \n",
    "        self.color=color\n",
    "                 \n",
    "        \n",
    "    def plot_S(self):\n",
    "        plt.scatter([self.x], [self.y], s=1000, color=self.color)\n",
    "        plt.text(\n",
    "            self.x-0.2, \n",
    "            self.y-0.2, \n",
    "            f'$S^{{{f\"{self.a1}{self.a2}\"}}}_{{{f\"{self.b1}{self.b2}\"}}}$'\n",
    "        )\n",
    "\n",
    "class ArrowA:\n",
    "    def __init__(self, x, y, color='#00ff0033'):\n",
    "        self.x = x\n",
    "        self.y = y\n",
    "        \n",
    "        self.color=color\n",
    "             \n",
    "        \n",
    "    def plot_arrow(self):\n",
    "        dx = -1\n",
    "        dy = -1\n",
    "        plt.arrow(self.x, self.y, dx, dy, width=0.2, color=self.color)\n",
    "        plt.text((self.x+dx), (self.y+dy), f'$λ_A$')\n",
    "\n",
    "class ArrowB:\n",
    "    def __init__(self, x, y, color='#ff000033'):\n",
    "        self.x = x\n",
    "        self.y = y\n",
    "        \n",
    "        self.color=color\n",
    "             \n",
    "        \n",
    "    def plot_arrow(self):\n",
    "        dx = 1\n",
    "        dy = -1\n",
    "        plt.arrow(self.x, self.y, dx, dy, width=0.2, color=self.color)\n",
    "        plt.text((self.x+dx), (self.y+dy), f'$λ_B$')\n",
    "\n",
    "\n",
    "\n",
    "class Graph:\n",
    "    def __init__(self, a1, a2, b1, b2):\n",
    "        self.a1 = a1\n",
    "        self.a2 = a2\n",
    "        self.b1 = b1\n",
    "        self.b2 = b2\n",
    "        \n",
    "        self.SS, self.ArrowAS, self.ArrowBS = self.gen_S(self.a1, self.a2, self.b1, self.b2)\n",
    "        \n",
    "        self.A = np.zeros((len(self.SS), len(self.SS)))\n",
    "  \n",
    "    @staticmethod \n",
    "    def gen_S(a1, a2, b1, b2):\n",
    "        SS = []\n",
    "        ArrowAS = []\n",
    "        ArrowBS = []\n",
    "        \n",
    "        def isArrow(x, y, x1, x2, y1, y2, a1, a2, b1, b2):\n",
    "            if x1 > 0 and y1+y2 > b1-1:\n",
    "                ArrowAS.append(ArrowA(x, y))\n",
    "            if x1 > 0 and y1+y2 > b1-1:\n",
    "                ArrowBS.append(ArrowB(x, y))\n",
    "                \n",
    "        for i in range(rb-nb+2):\n",
    "            y1 = b1\n",
    "            y2 = b2 - i\n",
    "            if y2>=0:\n",
    "                for j in range(a1+a2+1):\n",
    "                    x = 2*i - 2*j\n",
    "                    y = -2*j - 2*i\n",
    "                    \n",
    "                    x1 = a1 \n",
    "                    x2 = a2 - j\n",
    "\n",
    "                    if x2>=0:\n",
    "                        SS.append(S(x, y, x1, x2, y1, y2))\n",
    "                        isArrow(x, y, x1, x2, y1, y2, a1, a2, b1, b2)\n",
    "                        \n",
    "                    else:\n",
    "                        x1 = a2+a1-j\n",
    "                        x2 = 0\n",
    "                        SS.append(S(x, y, x1, x2, y1, y2))\n",
    "                        isArrow(x, y, x1, x2, y1, y2, a1, a2, b1, b2)\n",
    "            else:\n",
    "                y1 = b2+b1-i\n",
    "                y2 = 0\n",
    "                for j in range(a1+a2+1):\n",
    "                    x = 2*i - 2*j\n",
    "                    y = -2*j - 2 *i\n",
    "                    \n",
    "                    x1 = a1\n",
    "                    x2 = a2 - j\n",
    "\n",
    "                    if x2>=0:\n",
    "                        SS.append(S(x, y, x1, x2, y1, y2))\n",
    "                        isArrow(x, y, x1, x2, y1, y2, a1, a2, b1, b2)\n",
    "                    else:\n",
    "                        x1 = a2+a1-j\n",
    "                        x2 = 0\n",
    "                        SS.append(S(x, y, x1, x2, y1, y2))\n",
    "                        isArrow(x, y, x1, x2, y1, y2, a1, a2, b1, b2)\n",
    "\n",
    "        return SS[:-1], ArrowAS, ArrowBS\n",
    "    \n",
    "    @staticmethod \n",
    "    def gen_matrix_A(d, a1, a2, b1, b2):\n",
    "        SS = []\n",
    "        ArrowAS = []\n",
    "        ArrowBS = []\n",
    "        \n",
    "        A = np.zeros((len(d), len(d)))\n",
    "        \n",
    "        def isArrow(x, y, x1, x2, y1, y2, a1, a2, b1, b2):\n",
    "            if x1 > 0 and y1+y2 > b1-1:\n",
    "                ArrowAS.append(ArrowA(x, y))\n",
    "                if x2 != 0:\n",
    "                    A[d.index((x1, x2, y1, y2))][d.index((x1, x2-1, y1, y2))] = la*x1\n",
    "                else:\n",
    "                    A[d.index((x1, x2, y1, y2))][d.index((x1-1, 0, y1, y2))] = la*x1\n",
    "            if x1 > 0 and y1+y2 > b1-1:\n",
    "                ArrowBS.append(ArrowB(x, y))\n",
    "#                 A[d.index((x1, x2, y1, y2))] = 1\n",
    "                if y2 != 0:\n",
    "                    A[d.index((x1, x2, y1, y2))][d.index((x1, x2, y1, y2-1))] = lb*y1\n",
    "                else:\n",
    "                    A[d.index((x1, x2, y1, y2))][d.index((x1, x2, y1-1, 0))] = lb*y1\n",
    "                \n",
    "        for i in range(b1):\n",
    "            y1 = b1\n",
    "            y2 = b2 - i\n",
    "            if y2>=0:\n",
    "                for j in range(a1+a2+1):\n",
    "                    x = 2*i - 2*j\n",
    "                    y = -2*j - 2*i\n",
    "                    \n",
    "                    x1 = a1\n",
    "                    x2 = a2 - j\n",
    "\n",
    "                    if x2>=0:\n",
    "                        SS.append(S(x, y, x1, x2, y1, y2))\n",
    "                        isArrow(x, y, x1, x2, y1, y2, a1, a2, b1, b2)\n",
    "                        \n",
    "                    else:\n",
    "                        x1 = a2+a1-j\n",
    "                        x2 = 0\n",
    "                        SS.append(S(x, y, x1, x2, y1, y2))\n",
    "                        isArrow(x, y, x1, x2, y1, y2, a1, a2, b1, b2)\n",
    "            else:\n",
    "                y1 = b2+b1-i\n",
    "                y2 = 0\n",
    "                for j in range(a1+a2+1):\n",
    "                    x = 2*i - 2*j\n",
    "                    y = -2*j - 2 *i\n",
    "                    \n",
    "                    x1 = a1\n",
    "                    x2 = a2 - j\n",
    "\n",
    "                    if x2>=0:\n",
    "                        SS.append(S(x, y, x1, x2, y1, y2))\n",
    "                        isArrow(x, y, x1, x2, y1, y2, a1, a2, b1, b2)\n",
    "                    else:\n",
    "                        x1 = a2+a1-j\n",
    "                        x2 = 0\n",
    "                        SS.append(S(x, y, x1, x2, y1, y2))\n",
    "                        isArrow(x, y, x1, x2, y1, y2, a1, a2, b1, b2)\n",
    "        A = A - np.diag(A.sum(axis=1))\n",
    "                        \n",
    "        return A\n",
    "    \n",
    "    \n",
    "\n",
    "    def plot_graph(self):\n",
    "        plt.figure(figsize=(10,10))\n",
    "        plt.xlim(-12,12)\n",
    "        plt.ylim(-23,1)\n",
    "        \n",
    "        for s in self.SS:\n",
    "            s.plot_S()\n",
    "            \n",
    "        for s in self.ArrowAS:\n",
    "            s.plot_arrow()\n",
    "            \n",
    "        for s in self.ArrowBS:\n",
    "            s.plot_arrow()\n",
    "         \n",
    "        # plt.grid()"
   ]
  },
  {
   "cell_type": "code",
   "execution_count": 7,
   "id": "041dfd06",
   "metadata": {},
   "outputs": [
    {
     "data": {
      "image/png": "[encoded data removed]",
      "text/plain": [
       "<Figure size 720x720 with 1 Axes>"
      ]
     },
     "metadata": {
      "needs_background": "light"
     },
     "output_type": "display_data"
    }
   ],
   "source": [
    "a1 = na\n",
    "a2 = ra - na\n",
    "\n",
    "b1 = nb \n",
    "b2 = rb - nb\n",
    "g = Graph(a1,a2,b1,b2)\n",
    "g.plot_graph()"
   ]
  },
  {
   "cell_type": "code",
   "execution_count": null,
   "id": "3d62a238",
   "metadata": {},
   "outputs": [],
   "source": []
  },
  {
   "cell_type": "code",
   "execution_count": null,
   "id": "fe71ffa8",
   "metadata": {},
   "outputs": [],
   "source": []
  },
  {
   "cell_type": "code",
   "execution_count": null,
   "id": "e20fa349",
   "metadata": {},
   "outputs": [],
   "source": []
  },
  {
   "cell_type": "code",
   "execution_count": 8,
   "id": "9dd54d31",
   "metadata": {},
   "outputs": [],
   "source": [
    "from IPython.display import display, Math"
   ]
  },
  {
   "cell_type": "code",
   "execution_count": 9,
   "id": "36deed9d",
   "metadata": {},
   "outputs": [
    {
     "name": "stderr",
     "output_type": "stream",
     "text": [
      "C:\\Users\\Admin\\AppData\\Local\\Temp\\ipykernel_9452\\2173197211.py:15: VisibleDeprecationWarning: Creating an ndarray from ragged nested sequences (which is a list-or-tuple of lists-or-tuples-or ndarrays with different lengths or shapes) is deprecated. If you meant to do this, you must specify 'dtype=object' when creating the ndarray.\n",
      "  matrix = np.array(A).reshape(rb - nb + 2, ra+1)\n"
     ]
    },
    {
     "data": {
      "text/plain": [
       "[(3, 2, 3, 1),\n",
       " (3, 2, 3, 0),\n",
       " (3, 1, 3, 1),\n",
       " (3, 2, 2, 0),\n",
       " (3, 1, 3, 0),\n",
       " (3, 0, 3, 1),\n",
       " (3, 1, 2, 0),\n",
       " (3, 0, 3, 0),\n",
       " (2, 0, 3, 1),\n",
       " (3, 0, 2, 0),\n",
       " (2, 0, 3, 0),\n",
       " (1, 0, 3, 1),\n",
       " (2, 0, 2, 0),\n",
       " (1, 0, 3, 0),\n",
       " (0, 0, 3, 1),\n",
       " (1, 0, 2, 0),\n",
       " (0, 0, 3, 0)]"
      ]
     },
     "metadata": {},
     "output_type": "display_data"
    }
   ],
   "source": [
    "A = list(np.zeros((rb - nb + 2, ra+1)).reshape(-1))\n",
    "\n",
    "a = np.array([i.a1 for i in g.SS])\n",
    "b = np.array([i.a2 for i in g.SS])\n",
    "c = np.array([i.b1 for i in g.SS])\n",
    "d = np.array([i.b2 for i in g.SS])\n",
    "\n",
    "it = 0\n",
    "\n",
    "for i, j, k, l, m in zip(a, b, c, d, range(len(a))):\n",
    "    A[it] = (i, j, k, l)\n",
    "    it+=1\n",
    "\n",
    "\n",
    "matrix = np.array(A).reshape(rb - nb + 2, ra+1)\n",
    "diags = [list(matrix[::-1,:].diagonal(i)) for i in range(-matrix.shape[0]+1,matrix.shape[1])][:-1]\n",
    "diags = sum(diags, [])\n",
    "display(diags)"
   ]
  },
  {
   "cell_type": "code",
   "execution_count": 10,
   "id": "c5fb66fd",
   "metadata": {},
   "outputs": [
    {
     "data": {
      "text/latex": [
       "$\\displaystyle S_{0} = S^{32}_{31}$"
      ],
      "text/plain": [
       "<IPython.core.display.Math object>"
      ]
     },
     "metadata": {},
     "output_type": "display_data"
    },
    {
     "data": {
      "text/latex": [
       "$\\displaystyle S_{1} = S^{32}_{30}$"
      ],
      "text/plain": [
       "<IPython.core.display.Math object>"
      ]
     },
     "metadata": {},
     "output_type": "display_data"
    },
    {
     "data": {
      "text/latex": [
       "$\\displaystyle S_{2} = S^{31}_{31}$"
      ],
      "text/plain": [
       "<IPython.core.display.Math object>"
      ]
     },
     "metadata": {},
     "output_type": "display_data"
    },
    {
     "data": {
      "text/latex": [
       "$\\displaystyle S_{3} = S^{32}_{20}$"
      ],
      "text/plain": [
       "<IPython.core.display.Math object>"
      ]
     },
     "metadata": {},
     "output_type": "display_data"
    },
    {
     "data": {
      "text/latex": [
       "$\\displaystyle S_{4} = S^{31}_{30}$"
      ],
      "text/plain": [
       "<IPython.core.display.Math object>"
      ]
     },
     "metadata": {},
     "output_type": "display_data"
    },
    {
     "data": {
      "text/latex": [
       "$\\displaystyle S_{5} = S^{30}_{31}$"
      ],
      "text/plain": [
       "<IPython.core.display.Math object>"
      ]
     },
     "metadata": {},
     "output_type": "display_data"
    },
    {
     "data": {
      "text/latex": [
       "$\\displaystyle S_{6} = S^{31}_{20}$"
      ],
      "text/plain": [
       "<IPython.core.display.Math object>"
      ]
     },
     "metadata": {},
     "output_type": "display_data"
    },
    {
     "data": {
      "text/latex": [
       "$\\displaystyle S_{7} = S^{30}_{30}$"
      ],
      "text/plain": [
       "<IPython.core.display.Math object>"
      ]
     },
     "metadata": {},
     "output_type": "display_data"
    },
    {
     "data": {
      "text/latex": [
       "$\\displaystyle S_{8} = S^{20}_{31}$"
      ],
      "text/plain": [
       "<IPython.core.display.Math object>"
      ]
     },
     "metadata": {},
     "output_type": "display_data"
    },
    {
     "data": {
      "text/latex": [
       "$\\displaystyle S_{9} = S^{30}_{20}$"
      ],
      "text/plain": [
       "<IPython.core.display.Math object>"
      ]
     },
     "metadata": {},
     "output_type": "display_data"
    },
    {
     "data": {
      "text/latex": [
       "$\\displaystyle S_{10} = S^{20}_{30}$"
      ],
      "text/plain": [
       "<IPython.core.display.Math object>"
      ]
     },
     "metadata": {},
     "output_type": "display_data"
    },
    {
     "data": {
      "text/latex": [
       "$\\displaystyle S_{11} = S^{10}_{31}$"
      ],
      "text/plain": [
       "<IPython.core.display.Math object>"
      ]
     },
     "metadata": {},
     "output_type": "display_data"
    },
    {
     "data": {
      "text/latex": [
       "$\\displaystyle S_{12} = S^{20}_{20}$"
      ],
      "text/plain": [
       "<IPython.core.display.Math object>"
      ]
     },
     "metadata": {},
     "output_type": "display_data"
    },
    {
     "data": {
      "text/latex": [
       "$\\displaystyle S_{13} = S^{10}_{30}$"
      ],
      "text/plain": [
       "<IPython.core.display.Math object>"
      ]
     },
     "metadata": {},
     "output_type": "display_data"
    },
    {
     "data": {
      "text/latex": [
       "$\\displaystyle S_{14} = S^{00}_{31}$"
      ],
      "text/plain": [
       "<IPython.core.display.Math object>"
      ]
     },
     "metadata": {},
     "output_type": "display_data"
    },
    {
     "data": {
      "text/latex": [
       "$\\displaystyle S_{15} = S^{10}_{20}$"
      ],
      "text/plain": [
       "<IPython.core.display.Math object>"
      ]
     },
     "metadata": {},
     "output_type": "display_data"
    },
    {
     "data": {
      "text/latex": [
       "$\\displaystyle S_{16} = S^{00}_{30}$"
      ],
      "text/plain": [
       "<IPython.core.display.Math object>"
      ]
     },
     "metadata": {},
     "output_type": "display_data"
    }
   ],
   "source": [
    "a = np.array([i[0] for i in diags])\n",
    "b = np.array([i[1] for i in diags])\n",
    "c = np.array([i[2] for i in diags])\n",
    "d = np.array([i[3] for i in diags])\n",
    "\n",
    "\n",
    "for i, j, k, l, m in zip(a, b, c, d, range(len(a))):\n",
    "    display(Math(f'$S_{{{m}}} = S^{{{f\"{i}{j}\"}}}_{{{f\"{k}{l}\"}}}$'))"
   ]
  },
  {
   "cell_type": "code",
   "execution_count": 11,
   "id": "c716e931",
   "metadata": {},
   "outputs": [
    {
     "data": {
      "text/latex": [
       "$\\displaystyle \\left[\\begin{array}{ccccccccccccccccc}-21.0 & 15.0 & 6.0 & 0 & 0 & 0 & 0 & 0 & 0 & 0 & 0 & 0 & 0 & 0 & 0 & 0 & 0\\\\0 & -21.0 & 0 & 15.0 & 6.0 & 0 & 0 & 0 & 0 & 0 & 0 & 0 & 0 & 0 & 0 & 0 & 0\\\\0 & 0 & -21.0 & 0 & 15.0 & 6.0 & 0 & 0 & 0 & 0 & 0 & 0 & 0 & 0 & 0 & 0 & 0\\\\0 & 0 & 0 & 0 & 0 & 0 & 0 & 0 & 0 & 0 & 0 & 0 & 0 & 0 & 0 & 0 & 0\\\\0 & 0 & 0 & 0 & -21.0 & 0 & 15.0 & 6.0 & 0 & 0 & 0 & 0 & 0 & 0 & 0 & 0 & 0\\\\0 & 0 & 0 & 0 & 0 & -21.0 & 0 & 15.0 & 6.0 & 0 & 0 & 0 & 0 & 0 & 0 & 0 & 0\\\\0 & 0 & 0 & 0 & 0 & 0 & 0 & 0 & 0 & 0 & 0 & 0 & 0 & 0 & 0 & 0 & 0\\\\0 & 0 & 0 & 0 & 0 & 0 & 0 & -21.0 & 0 & 15.0 & 6.0 & 0 & 0 & 0 & 0 & 0 & 0\\\\0 & 0 & 0 & 0 & 0 & 0 & 0 & 0 & -19.0 & 0 & 15.0 & 4.0 & 0 & 0 & 0 & 0 & 0\\\\0 & 0 & 0 & 0 & 0 & 0 & 0 & 0 & 0 & 0 & 0 & 0 & 0 & 0 & 0 & 0 & 0\\\\0 & 0 & 0 & 0 & 0 & 0 & 0 & 0 & 0 & 0 & -19.0 & 0 & 15.0 & 4.0 & 0 & 0 & 0\\\\0 & 0 & 0 & 0 & 0 & 0 & 0 & 0 & 0 & 0 & 0 & -17.0 & 0 & 15.0 & 2.0 & 0 & 0\\\\0 & 0 & 0 & 0 & 0 & 0 & 0 & 0 & 0 & 0 & 0 & 0 & 0 & 0 & 0 & 0 & 0\\\\0 & 0 & 0 & 0 & 0 & 0 & 0 & 0 & 0 & 0 & 0 & 0 & 0 & -17.0 & 0 & 15.0 & 2.0\\\\0 & 0 & 0 & 0 & 0 & 0 & 0 & 0 & 0 & 0 & 0 & 0 & 0 & 0 & 0 & 0 & 0\\\\0 & 0 & 0 & 0 & 0 & 0 & 0 & 0 & 0 & 0 & 0 & 0 & 0 & 0 & 0 & 0 & 0\\\\0 & 0 & 0 & 0 & 0 & 0 & 0 & 0 & 0 & 0 & 0 & 0 & 0 & 0 & 0 & 0 & 0\\end{array}\\right]$"
      ],
      "text/plain": [
       "Matrix([\n",
       "[-21.0,  15.0,   6.0,    0,     0,     0,    0,     0,     0,    0,     0,     0,    0,     0,   0,    0,   0],\n",
       "[    0, -21.0,     0, 15.0,   6.0,     0,    0,     0,     0,    0,     0,     0,    0,     0,   0,    0,   0],\n",
       "[    0,     0, -21.0,    0,  15.0,   6.0,    0,     0,     0,    0,     0,     0,    0,     0,   0,    0,   0],\n",
       "[    0,     0,     0,    0,     0,     0,    0,     0,     0,    0,     0,     0,    0,     0,   0,    0,   0],\n",
       "[    0,     0,     0,    0, -21.0,     0, 15.0,   6.0,     0,    0,     0,     0,    0,     0,   0,    0,   0],\n",
       "[    0,     0,     0,    0,     0, -21.0,    0,  15.0,   6.0,    0,     0,     0,    0,     0,   0,    0,   0],\n",
       "[    0,     0,     0,    0,     0,     0,    0,     0,     0,    0,     0,     0,    0,     0,   0,    0,   0],\n",
       "[    0,     0,     0,    0,     0,     0,    0, -21.0,     0, 15.0,   6.0,     0,    0,     0,   0,    0,   0],\n",
       "[    0,     0,     0,    0,     0,     0,    0,     0, -19.0,    0,  15.0,   4.0,    0,     0,   0,    0,   0],\n",
       "[    0,     0,     0,    0,     0,     0,    0,     0,     0,    0,     0,     0,    0,     0,   0,    0,   0],\n",
       "[    0,     0,     0,    0,     0,     0,    0,     0,     0,    0, -19.0,     0, 15.0,   4.0,   0,    0,   0],\n",
       "[    0,     0,     0,    0,     0,     0,    0,     0,     0,    0,     0, -17.0,    0,  15.0, 2.0,    0,   0],\n",
       "[    0,     0,     0,    0,     0,     0,    0,     0,     0,    0,     0,     0,    0,     0,   0,    0,   0],\n",
       "[    0,     0,     0,    0,     0,     0,    0,     0,     0,    0,     0,     0,    0, -17.0,   0, 15.0, 2.0],\n",
       "[    0,     0,     0,    0,     0,     0,    0,     0,     0,    0,     0,     0,    0,     0,   0,    0,   0],\n",
       "[    0,     0,     0,    0,     0,     0,    0,     0,     0,    0,     0,     0,    0,     0,   0,    0,   0],\n",
       "[    0,     0,     0,    0,     0,     0,    0,     0,     0,    0,     0,     0,    0,     0,   0,    0,   0]])"
      ]
     },
     "metadata": {},
     "output_type": "display_data"
    },
    {
     "data": {
      "text/latex": [
       "$\\displaystyle \\left[\\begin{matrix}\\end{matrix}\\right]$"
      ],
      "text/plain": [
       "Matrix(0, 0, [])"
      ]
     },
     "metadata": {},
     "output_type": "display_data"
    }
   ],
   "source": [
    "A = g.gen_matrix_A(diags, g.a1, g.a2, g.b1, g.b2)\n",
    "display(sp.Matrix(A))\n",
    "display(sp.Matrix())"
   ]
  },
  {
   "cell_type": "code",
   "execution_count": 12,
   "id": "9e0f5b66",
   "metadata": {},
   "outputs": [],
   "source": [
    "t = sp.symbols('t')\n",
    "p = [sp.symbols(f'p_{i}', cls=sp.Function) for i in range(len(A))]"
   ]
  },
  {
   "cell_type": "code",
   "execution_count": 13,
   "id": "de505b8d",
   "metadata": {},
   "outputs": [
    {
     "data": {
      "text/latex": [
       "$\\displaystyle \\frac{d}{d t} \\operatorname{p_{0}}{\\left(t \\right)} = - 21.0 \\operatorname{p_{0}}{\\left(t \\right)}$"
      ],
      "text/plain": [
       "Eq(Derivative(p_0(t), t), -21.0*p_0(t))"
      ]
     },
     "metadata": {},
     "output_type": "display_data"
    },
    {
     "data": {
      "text/latex": [
       "$\\displaystyle \\frac{d}{d t} \\operatorname{p_{1}}{\\left(t \\right)} = 15.0 \\operatorname{p_{0}}{\\left(t \\right)} - 21.0 \\operatorname{p_{1}}{\\left(t \\right)}$"
      ],
      "text/plain": [
       "Eq(Derivative(p_1(t), t), 15.0*p_0(t) - 21.0*p_1(t))"
      ]
     },
     "metadata": {},
     "output_type": "display_data"
    },
    {
     "data": {
      "text/latex": [
       "$\\displaystyle \\frac{d}{d t} \\operatorname{p_{2}}{\\left(t \\right)} = 6.0 \\operatorname{p_{0}}{\\left(t \\right)} - 21.0 \\operatorname{p_{2}}{\\left(t \\right)}$"
      ],
      "text/plain": [
       "Eq(Derivative(p_2(t), t), 6.0*p_0(t) - 21.0*p_2(t))"
      ]
     },
     "metadata": {},
     "output_type": "display_data"
    },
    {
     "data": {
      "text/latex": [
       "$\\displaystyle \\frac{d}{d t} \\operatorname{p_{3}}{\\left(t \\right)} = 6.0 \\operatorname{p_{0}}{\\left(t \\right)} + 15.0 \\operatorname{p_{1}}{\\left(t \\right)} - 21.0 \\operatorname{p_{2}}{\\left(t \\right)}$"
      ],
      "text/plain": [
       "Eq(Derivative(p_3(t), t), 6.0*p_0(t) + 15.0*p_1(t) - 21.0*p_2(t))"
      ]
     },
     "metadata": {},
     "output_type": "display_data"
    },
    {
     "data": {
      "text/latex": [
       "$\\displaystyle \\frac{d}{d t} \\operatorname{p_{4}}{\\left(t \\right)} = 6.0 \\operatorname{p_{1}}{\\left(t \\right)} + 15.0 \\operatorname{p_{2}}{\\left(t \\right)} - 21.0 \\operatorname{p_{4}}{\\left(t \\right)}$"
      ],
      "text/plain": [
       "Eq(Derivative(p_4(t), t), 6.0*p_1(t) + 15.0*p_2(t) - 21.0*p_4(t))"
      ]
     },
     "metadata": {},
     "output_type": "display_data"
    },
    {
     "data": {
      "text/latex": [
       "$\\displaystyle \\frac{d}{d t} \\operatorname{p_{5}}{\\left(t \\right)} = 6.0 \\operatorname{p_{2}}{\\left(t \\right)} - 21.0 \\operatorname{p_{5}}{\\left(t \\right)}$"
      ],
      "text/plain": [
       "Eq(Derivative(p_5(t), t), 6.0*p_2(t) - 21.0*p_5(t))"
      ]
     },
     "metadata": {},
     "output_type": "display_data"
    },
    {
     "data": {
      "text/latex": [
       "$\\displaystyle \\frac{d}{d t} \\operatorname{p_{6}}{\\left(t \\right)} = 6.0 \\operatorname{p_{2}}{\\left(t \\right)} + 15.0 \\operatorname{p_{4}}{\\left(t \\right)} - 21.0 \\operatorname{p_{5}}{\\left(t \\right)}$"
      ],
      "text/plain": [
       "Eq(Derivative(p_6(t), t), 6.0*p_2(t) + 15.0*p_4(t) - 21.0*p_5(t))"
      ]
     },
     "metadata": {},
     "output_type": "display_data"
    },
    {
     "data": {
      "text/latex": [
       "$\\displaystyle \\frac{d}{d t} \\operatorname{p_{7}}{\\left(t \\right)} = 6.0 \\operatorname{p_{4}}{\\left(t \\right)} + 15.0 \\operatorname{p_{5}}{\\left(t \\right)} - 21.0 \\operatorname{p_{7}}{\\left(t \\right)}$"
      ],
      "text/plain": [
       "Eq(Derivative(p_7(t), t), 6.0*p_4(t) + 15.0*p_5(t) - 21.0*p_7(t))"
      ]
     },
     "metadata": {},
     "output_type": "display_data"
    },
    {
     "data": {
      "text/latex": [
       "$\\displaystyle \\frac{d}{d t} \\operatorname{p_{8}}{\\left(t \\right)} = 6.0 \\operatorname{p_{5}}{\\left(t \\right)} - 19.0 \\operatorname{p_{8}}{\\left(t \\right)}$"
      ],
      "text/plain": [
       "Eq(Derivative(p_8(t), t), 6.0*p_5(t) - 19.0*p_8(t))"
      ]
     },
     "metadata": {},
     "output_type": "display_data"
    },
    {
     "data": {
      "text/latex": [
       "$\\displaystyle \\frac{d}{d t} \\operatorname{p_{9}}{\\left(t \\right)} = 6.0 \\operatorname{p_{5}}{\\left(t \\right)} + 15.0 \\operatorname{p_{7}}{\\left(t \\right)} - 19.0 \\operatorname{p_{8}}{\\left(t \\right)}$"
      ],
      "text/plain": [
       "Eq(Derivative(p_9(t), t), 6.0*p_5(t) + 15.0*p_7(t) - 19.0*p_8(t))"
      ]
     },
     "metadata": {},
     "output_type": "display_data"
    },
    {
     "data": {
      "text/latex": [
       "$\\displaystyle \\frac{d}{d t} \\operatorname{p_{10}}{\\left(t \\right)} = - 19.0 \\operatorname{p_{10}}{\\left(t \\right)} + 6.0 \\operatorname{p_{7}}{\\left(t \\right)} + 15.0 \\operatorname{p_{8}}{\\left(t \\right)}$"
      ],
      "text/plain": [
       "Eq(Derivative(p_10(t), t), -19.0*p_10(t) + 6.0*p_7(t) + 15.0*p_8(t))"
      ]
     },
     "metadata": {},
     "output_type": "display_data"
    },
    {
     "data": {
      "text/latex": [
       "$\\displaystyle \\frac{d}{d t} \\operatorname{p_{11}}{\\left(t \\right)} = - 17.0 \\operatorname{p_{11}}{\\left(t \\right)} + 4.0 \\operatorname{p_{8}}{\\left(t \\right)}$"
      ],
      "text/plain": [
       "Eq(Derivative(p_11(t), t), -17.0*p_11(t) + 4.0*p_8(t))"
      ]
     },
     "metadata": {},
     "output_type": "display_data"
    },
    {
     "data": {
      "text/latex": [
       "$\\displaystyle \\frac{d}{d t} \\operatorname{p_{12}}{\\left(t \\right)} = 15.0 \\operatorname{p_{10}}{\\left(t \\right)} - 17.0 \\operatorname{p_{11}}{\\left(t \\right)} + 4.0 \\operatorname{p_{8}}{\\left(t \\right)}$"
      ],
      "text/plain": [
       "Eq(Derivative(p_12(t), t), 15.0*p_10(t) - 17.0*p_11(t) + 4.0*p_8(t))"
      ]
     },
     "metadata": {},
     "output_type": "display_data"
    },
    {
     "data": {
      "text/latex": [
       "$\\displaystyle \\frac{d}{d t} \\operatorname{p_{13}}{\\left(t \\right)} = 4.0 \\operatorname{p_{10}}{\\left(t \\right)} + 15.0 \\operatorname{p_{11}}{\\left(t \\right)} - 17.0 \\operatorname{p_{13}}{\\left(t \\right)}$"
      ],
      "text/plain": [
       "Eq(Derivative(p_13(t), t), 4.0*p_10(t) + 15.0*p_11(t) - 17.0*p_13(t))"
      ]
     },
     "metadata": {},
     "output_type": "display_data"
    },
    {
     "data": {
      "text/latex": [
       "$\\displaystyle \\frac{d}{d t} \\operatorname{p_{14}}{\\left(t \\right)} = 4.0 \\operatorname{p_{10}}{\\left(t \\right)} + 17.0 \\operatorname{p_{11}}{\\left(t \\right)} - 17.0 \\operatorname{p_{13}}{\\left(t \\right)}$"
      ],
      "text/plain": [
       "Eq(Derivative(p_14(t), t), 4.0*p_10(t) + 17.0*p_11(t) - 17.0*p_13(t))"
      ]
     },
     "metadata": {},
     "output_type": "display_data"
    },
    {
     "data": {
      "text/latex": [
       "$\\displaystyle \\frac{d}{d t} \\operatorname{p_{15}}{\\left(t \\right)} = 4.0 \\operatorname{p_{10}}{\\left(t \\right)} + 17.0 \\operatorname{p_{11}}{\\left(t \\right)} - 2.0 \\operatorname{p_{13}}{\\left(t \\right)}$"
      ],
      "text/plain": [
       "Eq(Derivative(p_15(t), t), 4.0*p_10(t) + 17.0*p_11(t) - 2.0*p_13(t))"
      ]
     },
     "metadata": {},
     "output_type": "display_data"
    },
    {
     "data": {
      "text/latex": [
       "$\\displaystyle \\frac{d}{d t} \\operatorname{p_{16}}{\\left(t \\right)} = 4.0 \\operatorname{p_{10}}{\\left(t \\right)} + 17.0 \\operatorname{p_{11}}{\\left(t \\right)}$"
      ],
      "text/plain": [
       "Eq(Derivative(p_16(t), t), 4.0*p_10(t) + 17.0*p_11(t))"
      ]
     },
     "metadata": {},
     "output_type": "display_data"
    }
   ],
   "source": [
    "nonterminal = []\n",
    "eqs = []\n",
    "index = 0\n",
    "AT = A.T\n",
    "\n",
    "for i in range(len(A)):\n",
    "    eq1 = 0\n",
    "    eq2 = 0\n",
    "\n",
    "    for j in np.where(A[i] > 0)[0]:\n",
    "        eq1 = A[i][j]*p[i](t) + eq1\n",
    "\n",
    "        eq = -eq1\n",
    "    if i == 0:\n",
    "        eq2 = 0\n",
    "        \n",
    "    else:\n",
    "        for index in np.where(AT[i] > 0)[0]:\n",
    "            eq2 = AT[i][index]\n",
    "            eq = eq + eq2 * p[index](t)\n",
    "        if eq1 != 0:\n",
    "            nonterminal.append(i)\n",
    "\n",
    "    eqs.append(sp.Eq(p[i](t).diff(t), eq))\n",
    "\n",
    "for i in eqs:\n",
    "    display(i)"
   ]
  },
  {
   "cell_type": "code",
   "execution_count": 14,
   "id": "bb0e4e5f",
   "metadata": {},
   "outputs": [
    {
     "data": {
      "text/plain": [
       "[1, 2, 4, 5, 7, 8, 10, 11, 13]"
      ]
     },
     "execution_count": 14,
     "metadata": {},
     "output_type": "execute_result"
    }
   ],
   "source": [
    "nonterminal"
   ]
  },
  {
   "cell_type": "code",
   "execution_count": 15,
   "id": "b4dc555a",
   "metadata": {},
   "outputs": [
    {
     "data": {
      "text/plain": [
       "{p_0(0): 1,\n",
       " p_1(0): 0,\n",
       " p_2(0): 0,\n",
       " p_3(0): 0,\n",
       " p_4(0): 0,\n",
       " p_5(0): 0,\n",
       " p_6(0): 0,\n",
       " p_7(0): 0,\n",
       " p_8(0): 0,\n",
       " p_9(0): 0,\n",
       " p_10(0): 0,\n",
       " p_11(0): 0,\n",
       " p_12(0): 0,\n",
       " p_13(0): 0,\n",
       " p_14(0): 0,\n",
       " p_15(0): 0,\n",
       " p_16(0): 0}"
      ]
     },
     "execution_count": 15,
     "metadata": {},
     "output_type": "execute_result"
    }
   ],
   "source": [
    "ics = {p[i](0): 0 for i in range(len(A))}\n",
    "ics[p[0](0)] = 1\n",
    "ics"
   ]
  },
  {
   "cell_type": "code",
   "execution_count": 16,
   "id": "8aea6254",
   "metadata": {},
   "outputs": [
    {
     "data": {
      "text/latex": [
       "$\\displaystyle \\operatorname{p_{0}}{\\left(0 \\right)} = 1$"
      ],
      "text/plain": [
       "Eq(p_0(0), 1)"
      ]
     },
     "metadata": {},
     "output_type": "display_data"
    },
    {
     "data": {
      "text/latex": [
       "$\\displaystyle \\operatorname{p_{1}}{\\left(0 \\right)} = 0$"
      ],
      "text/plain": [
       "Eq(p_1(0), 0)"
      ]
     },
     "metadata": {},
     "output_type": "display_data"
    },
    {
     "data": {
      "text/latex": [
       "$\\displaystyle \\operatorname{p_{2}}{\\left(0 \\right)} = 0$"
      ],
      "text/plain": [
       "Eq(p_2(0), 0)"
      ]
     },
     "metadata": {},
     "output_type": "display_data"
    },
    {
     "data": {
      "text/latex": [
       "$\\displaystyle \\operatorname{p_{3}}{\\left(0 \\right)} = 0$"
      ],
      "text/plain": [
       "Eq(p_3(0), 0)"
      ]
     },
     "metadata": {},
     "output_type": "display_data"
    },
    {
     "data": {
      "text/latex": [
       "$\\displaystyle \\operatorname{p_{4}}{\\left(0 \\right)} = 0$"
      ],
      "text/plain": [
       "Eq(p_4(0), 0)"
      ]
     },
     "metadata": {},
     "output_type": "display_data"
    },
    {
     "data": {
      "text/latex": [
       "$\\displaystyle \\operatorname{p_{5}}{\\left(0 \\right)} = 0$"
      ],
      "text/plain": [
       "Eq(p_5(0), 0)"
      ]
     },
     "metadata": {},
     "output_type": "display_data"
    },
    {
     "data": {
      "text/latex": [
       "$\\displaystyle \\operatorname{p_{6}}{\\left(0 \\right)} = 0$"
      ],
      "text/plain": [
       "Eq(p_6(0), 0)"
      ]
     },
     "metadata": {},
     "output_type": "display_data"
    },
    {
     "data": {
      "text/latex": [
       "$\\displaystyle \\operatorname{p_{7}}{\\left(0 \\right)} = 0$"
      ],
      "text/plain": [
       "Eq(p_7(0), 0)"
      ]
     },
     "metadata": {},
     "output_type": "display_data"
    },
    {
     "data": {
      "text/latex": [
       "$\\displaystyle \\operatorname{p_{8}}{\\left(0 \\right)} = 0$"
      ],
      "text/plain": [
       "Eq(p_8(0), 0)"
      ]
     },
     "metadata": {},
     "output_type": "display_data"
    },
    {
     "data": {
      "text/latex": [
       "$\\displaystyle \\operatorname{p_{9}}{\\left(0 \\right)} = 0$"
      ],
      "text/plain": [
       "Eq(p_9(0), 0)"
      ]
     },
     "metadata": {},
     "output_type": "display_data"
    },
    {
     "data": {
      "text/latex": [
       "$\\displaystyle \\operatorname{p_{10}}{\\left(0 \\right)} = 0$"
      ],
      "text/plain": [
       "Eq(p_10(0), 0)"
      ]
     },
     "metadata": {},
     "output_type": "display_data"
    },
    {
     "data": {
      "text/latex": [
       "$\\displaystyle \\operatorname{p_{11}}{\\left(0 \\right)} = 0$"
      ],
      "text/plain": [
       "Eq(p_11(0), 0)"
      ]
     },
     "metadata": {},
     "output_type": "display_data"
    },
    {
     "data": {
      "text/latex": [
       "$\\displaystyle \\operatorname{p_{12}}{\\left(0 \\right)} = 0$"
      ],
      "text/plain": [
       "Eq(p_12(0), 0)"
      ]
     },
     "metadata": {},
     "output_type": "display_data"
    },
    {
     "data": {
      "text/latex": [
       "$\\displaystyle \\operatorname{p_{13}}{\\left(0 \\right)} = 0$"
      ],
      "text/plain": [
       "Eq(p_13(0), 0)"
      ]
     },
     "metadata": {},
     "output_type": "display_data"
    },
    {
     "data": {
      "text/latex": [
       "$\\displaystyle \\operatorname{p_{14}}{\\left(0 \\right)} = 0$"
      ],
      "text/plain": [
       "Eq(p_14(0), 0)"
      ]
     },
     "metadata": {},
     "output_type": "display_data"
    },
    {
     "data": {
      "text/latex": [
       "$\\displaystyle \\operatorname{p_{15}}{\\left(0 \\right)} = 0$"
      ],
      "text/plain": [
       "Eq(p_15(0), 0)"
      ]
     },
     "metadata": {},
     "output_type": "display_data"
    },
    {
     "data": {
      "text/latex": [
       "$\\displaystyle \\operatorname{p_{16}}{\\left(0 \\right)} = 0$"
      ],
      "text/plain": [
       "Eq(p_16(0), 0)"
      ]
     },
     "metadata": {},
     "output_type": "display_data"
    }
   ],
   "source": [
    "for i in ics.keys():\n",
    "    display(sp.Eq(i, ics[i]))"
   ]
  },
  {
   "cell_type": "code",
   "execution_count": 17,
   "id": "7b196145",
   "metadata": {
    "scrolled": false
   },
   "outputs": [],
   "source": [
    "solutions = sp.dsolve(eqs, [i(t) for i in p], ics=ics)"
   ]
  },
  {
   "cell_type": "code",
   "execution_count": 18,
   "id": "18172736",
   "metadata": {
    "scrolled": false
   },
   "outputs": [
    {
     "data": {
      "text/latex": [
       "$\\displaystyle \\operatorname{p_{0}}{\\left(t \\right)} = 1.0 e^{- 21.0 t}$"
      ],
      "text/plain": [
       "Eq(p_0(t), 1.0*exp(-21.0*t))"
      ]
     },
     "metadata": {},
     "output_type": "display_data"
    },
    {
     "data": {
      "text/latex": [
       "$\\displaystyle \\operatorname{p_{1}}{\\left(t \\right)} = 15.0 t e^{- 21.0 t} - 8.88178419700125 \\cdot 10^{-16} e^{- 21.0 t}$"
      ],
      "text/plain": [
       "Eq(p_1(t), 15.0*t*exp(-21.0*t) - 8.88178419700125e-16*exp(-21.0*t))"
      ]
     },
     "metadata": {},
     "output_type": "display_data"
    },
    {
     "data": {
      "text/latex": [
       "$\\displaystyle \\operatorname{p_{2}}{\\left(t \\right)} = 6.0 t e^{- 21.0 t} - 2.22044604925031 \\cdot 10^{-16} e^{- 21.0 t}$"
      ],
      "text/plain": [
       "Eq(p_2(t), 6.0*t*exp(-21.0*t) - 2.22044604925031e-16*exp(-21.0*t))"
      ]
     },
     "metadata": {},
     "output_type": "display_data"
    },
    {
     "data": {
      "text/latex": [
       "$\\displaystyle \\operatorname{p_{3}}{\\left(t \\right)} = - 4.71428571428571 t e^{- 21.0 t} + 0.510204081632653 - 0.510204081632653 e^{- 21.0 t}$"
      ],
      "text/plain": [
       "Eq(p_3(t), -4.71428571428571*t*exp(-21.0*t) + 0.510204081632653 - 0.510204081632653*exp(-21.0*t))"
      ]
     },
     "metadata": {},
     "output_type": "display_data"
    },
    {
     "data": {
      "text/latex": [
       "$\\displaystyle \\operatorname{p_{4}}{\\left(t \\right)} = 90.0 t^{2} e^{- 21.0 t} - 3.5527136788005 \\cdot 10^{-15} e^{- 21.0 t}$"
      ],
      "text/plain": [
       "Eq(p_4(t), 90.0*t**2*exp(-21.0*t) - 3.5527136788005e-15*exp(-21.0*t))"
      ]
     },
     "metadata": {},
     "output_type": "display_data"
    },
    {
     "data": {
      "text/latex": [
       "$\\displaystyle \\operatorname{p_{5}}{\\left(t \\right)} = 18.0 t^{2} e^{- 21.0 t} + 1.77635683940025 \\cdot 10^{-15} e^{- 21.0 t}$"
      ],
      "text/plain": [
       "Eq(p_5(t), 18.0*t**2*exp(-21.0*t) + 1.77635683940025e-15*exp(-21.0*t))"
      ]
     },
     "metadata": {},
     "output_type": "display_data"
    },
    {
     "data": {
      "text/latex": [
       "$\\displaystyle \\operatorname{p_{6}}{\\left(t \\right)} = - 46.2857142857143 t^{2} e^{- 21.0 t} - 6.12244897959183 t e^{- 21.0 t} + 0.291545189504373 - 0.291545189504372 e^{- 21.0 t}$"
      ],
      "text/plain": [
       "Eq(p_6(t), -46.2857142857143*t**2*exp(-21.0*t) - 6.12244897959183*t*exp(-21.0*t) + 0.291545189504373 - 0.291545189504372*exp(-21.0*t))"
      ]
     },
     "metadata": {},
     "output_type": "display_data"
    },
    {
     "data": {
      "text/latex": [
       "$\\displaystyle \\operatorname{p_{7}}{\\left(t \\right)} = 270.0 t^{3} e^{- 21.0 t} - 5.6843418860808 \\cdot 10^{-14} t^{2} e^{- 21.0 t} + 5.6843418860808 \\cdot 10^{-14} t e^{- 21.0 t} + 7.105427357601 \\cdot 10^{-15} e^{- 21.0 t}$"
      ],
      "text/plain": [
       "Eq(p_7(t), 270.0*t**3*exp(-21.0*t) - 5.6843418860808e-14*t**2*exp(-21.0*t) + 5.6843418860808e-14*t*exp(-21.0*t) + 7.105427357601e-15*exp(-21.0*t))"
      ]
     },
     "metadata": {},
     "output_type": "display_data"
    },
    {
     "data": {
      "text/latex": [
       "$\\displaystyle \\operatorname{p_{8}}{\\left(t \\right)} = - 54.0 t^{2} e^{- 21.0 t} - 54.0 t e^{- 21.0 t} - 27.0 e^{- 21.0 t} + 27.0 e^{- 19.0 t}$"
      ],
      "text/plain": [
       "Eq(p_8(t), -54.0*t**2*exp(-21.0*t) - 54.0*t*exp(-21.0*t) - 27.0*exp(-21.0*t) + 27.0*exp(-19.0*t))"
      ]
     },
     "metadata": {},
     "output_type": "display_data"
    },
    {
     "data": {
      "text/latex": [
       "$\\displaystyle \\operatorname{p_{9}}{\\left(t \\right)} = - 192.857142857143 t^{3} e^{- 21.0 t} - 81.5510204081632 t^{2} e^{- 21.0 t} - 56.6239067055394 t e^{- 21.0 t} + 0.124947938359017 - 27.124947938359 e^{- 21.0 t} + 27.0 e^{- 19.0 t}$"
      ],
      "text/plain": [
       "Eq(p_9(t), -192.857142857143*t**3*exp(-21.0*t) - 81.5510204081632*t**2*exp(-21.0*t) - 56.6239067055394*t*exp(-21.0*t) + 0.124947938359017 - 27.124947938359*exp(-21.0*t) + 27.0*exp(-19.0*t))"
      ]
     },
     "metadata": {},
     "output_type": "display_data"
    },
    {
     "data": {
      "text/latex": [
       "$\\displaystyle \\operatorname{p_{10}}{\\left(t \\right)} = - 810.0 t^{3} e^{- 21.0 t} - 810.0 t^{2} e^{- 21.0 t} - 405.0 t e^{- 21.0 t} + 405.0 t e^{- 19.0 t} + 7.105427357601 \\cdot 10^{-15} e^{- 21.0 t}$"
      ],
      "text/plain": [
       "Eq(p_10(t), -810.0*t**3*exp(-21.0*t) - 810.0*t**2*exp(-21.0*t) - 405.0*t*exp(-21.0*t) + 405.0*t*exp(-19.0*t) + 7.105427357601e-15*exp(-21.0*t))"
      ]
     },
     "metadata": {},
     "output_type": "display_data"
    },
    {
     "data": {
      "text/latex": [
       "$\\displaystyle \\operatorname{p_{11}}{\\left(t \\right)} = 54.0 t^{2} e^{- 21.0 t} + 81.0 t e^{- 21.0 t} + 47.25 e^{- 21.0 t} - 54.0 e^{- 19.0 t} + 6.75 e^{- 17.0 t}$"
      ],
      "text/plain": [
       "Eq(p_11(t), 54.0*t**2*exp(-21.0*t) + 81.0*t*exp(-21.0*t) + 47.25*exp(-21.0*t) - 54.0*exp(-19.0*t) + 6.75*exp(-17.0*t))"
      ]
     },
     "metadata": {},
     "output_type": "display_data"
    },
    {
     "data": {
      "text/latex": [
       "$\\displaystyle \\operatorname{p_{12}}{\\left(t \\right)} = 578.571428571429 t^{3} e^{- 21.0 t} + 715.224489795918 t^{2} e^{- 21.0 t} + 433.259475218659 t e^{- 21.0 t} - 319.736842105263 t e^{- 19.0 t} + 0.0539941229474153 + 64.0242607246981 e^{- 21.0 t} - 70.8282548476454 e^{- 19.0 t} + 6.75 e^{- 17.0 t}$"
      ],
      "text/plain": [
       "Eq(p_12(t), 578.571428571429*t**3*exp(-21.0*t) + 715.224489795918*t**2*exp(-21.0*t) + 433.259475218659*t*exp(-21.0*t) - 319.736842105263*t*exp(-19.0*t) + 0.0539941229474153 + 64.0242607246981*exp(-21.0*t) - 70.8282548476454*exp(-19.0*t) + 6.75*exp(-17.0*t))"
      ]
     },
     "metadata": {},
     "output_type": "display_data"
    },
    {
     "data": {
      "text/latex": [
       "$\\displaystyle \\operatorname{p_{13}}{\\left(t \\right)} = 810.0 t^{3} e^{- 21.0 t} + 1215.0 t^{2} e^{- 21.0 t} + 708.75 t e^{- 21.0 t} - 810.0 t e^{- 19.0 t} + 101.25 t e^{- 17.0 t}$"
      ],
      "text/plain": [
       "Eq(p_13(t), 810.0*t**3*exp(-21.0*t) + 1215.0*t**2*exp(-21.0*t) + 708.75*t*exp(-21.0*t) - 810.0*t*exp(-19.0*t) + 101.25*t*exp(-17.0*t))"
      ]
     },
     "metadata": {},
     "output_type": "display_data"
    },
    {
     "data": {
      "text/latex": [
       "$\\displaystyle \\operatorname{p_{14}}{\\left(t \\right)} = 810.0 t^{3} e^{- 21.0 t} + 1209.85714285714 t^{2} e^{- 21.0 t} + 700.545918367347 t e^{- 21.0 t} - 810.0 t e^{- 19.0 t} + 101.25 t e^{- 17.0 t} + 0.000577674678894114 - 4.89067055393586 e^{- 21.0 t} + 5.68421052631578 e^{- 19.0 t} - 0.794117647058819 e^{- 17.0 t}$"
      ],
      "text/plain": [
       "Eq(p_14(t), 810.0*t**3*exp(-21.0*t) + 1209.85714285714*t**2*exp(-21.0*t) + 700.545918367347*t*exp(-21.0*t) - 810.0*t*exp(-19.0*t) + 101.25*t*exp(-17.0*t) + 0.000577674678894114 - 4.89067055393586*exp(-21.0*t) + 5.68421052631578*exp(-19.0*t) - 0.794117647058819*exp(-17.0*t))"
      ]
     },
     "metadata": {},
     "output_type": "display_data"
    },
    {
     "data": {
      "text/latex": [
       "$\\displaystyle \\operatorname{p_{15}}{\\left(t \\right)} = 231.428571428571 t^{3} e^{- 21.0 t} + 259.34693877551 t^{2} e^{- 21.0 t} + 103.771137026239 t e^{- 21.0 t} - 170.526315789474 t e^{- 19.0 t} + 11.9117647058824 t e^{- 17.0 t} + 0.0171050213356668 - 33.3085172844648 e^{- 21.0 t} + 39.3407202216066 e^{- 19.0 t} - 6.04930795847751 e^{- 17.0 t}$"
      ],
      "text/plain": [
       "Eq(p_15(t), 231.428571428571*t**3*exp(-21.0*t) + 259.34693877551*t**2*exp(-21.0*t) + 103.771137026239*t*exp(-21.0*t) - 170.526315789474*t*exp(-19.0*t) + 11.9117647058824*t*exp(-17.0*t) + 0.0171050213356668 - 33.3085172844648*exp(-21.0*t) + 39.3407202216066*exp(-19.0*t) - 6.04930795847751*exp(-17.0*t))"
      ]
     },
     "metadata": {},
     "output_type": "display_data"
    },
    {
     "data": {
      "text/latex": [
       "$\\displaystyle \\operatorname{p_{16}}{\\left(t \\right)} = 154.285714285714 t^{3} e^{- 21.0 t} + 132.612244897959 t^{2} e^{- 21.0 t} + 24.201166180758 t e^{- 21.0 t} - 85.2631578947368 t e^{- 19.0 t} + 0.0193086675565698 - 37.097563515202 e^{- 21.0 t} + 43.8282548476454 e^{- 19.0 t} - 6.75 e^{- 17.0 t}$"
      ],
      "text/plain": [
       "Eq(p_16(t), 154.285714285714*t**3*exp(-21.0*t) + 132.612244897959*t**2*exp(-21.0*t) + 24.201166180758*t*exp(-21.0*t) - 85.2631578947368*t*exp(-19.0*t) + 0.0193086675565698 - 37.097563515202*exp(-21.0*t) + 43.8282548476454*exp(-19.0*t) - 6.75*exp(-17.0*t))"
      ]
     },
     "metadata": {},
     "output_type": "display_data"
    }
   ],
   "source": [
    "for i in solutions:\n",
    "    display(i)"
   ]
  },
  {
   "cell_type": "code",
   "execution_count": 19,
   "id": "df827a95",
   "metadata": {},
   "outputs": [
    {
     "data": {
      "image/png": "[encoded data removed]",
      "text/plain": [
       "<Figure size 1296x576 with 1 Axes>"
      ]
     },
     "metadata": {
      "needs_background": "light"
     },
     "output_type": "display_data"
    }
   ],
   "source": [
    "plt.figure(figsize=(18,8))\n",
    "\n",
    "x_values = np.arange(0, 0.5, 0.3e-2)\n",
    "for i in range(len(A)):\n",
    "    y_values = np.zeros(len(x_values))\n",
    "    for j in range(len(x_values)):\n",
    "        y_values[j] = solutions[i].subs(t, x_values[j]).rhs\n",
    "    plt.plot(x_values, y_values, label=i)\n",
    "plt.legend()\n",
    "plt.grid()\n",
    "plt.show()"
   ]
  },
  {
   "cell_type": "code",
   "execution_count": 20,
   "id": "3783417b",
   "metadata": {},
   "outputs": [],
   "source": [
    "total_solution_nonterminal = sum(solutions[i].rhs for i in nonterminal)"
   ]
  },
  {
   "cell_type": "code",
   "execution_count": 21,
   "id": "0dc6f639",
   "metadata": {},
   "outputs": [
    {
     "data": {
      "text/latex": [
       "$\\displaystyle \\operatorname{p_{NotTerm}}{\\left(t \\right)} = 270.0 t^{3} e^{- 21.0 t} + 513.0 t^{2} e^{- 21.0 t} + 351.75 t e^{- 21.0 t} - 405.0 t e^{- 19.0 t} + 101.25 t e^{- 17.0 t} + 20.25 e^{- 21.0 t} - 27.0 e^{- 19.0 t} + 6.75 e^{- 17.0 t}$"
      ],
      "text/plain": [
       "Eq(p_NotTerm(t), 270.0*t**3*exp(-21.0*t) + 513.0*t**2*exp(-21.0*t) + 351.75*t*exp(-21.0*t) - 405.0*t*exp(-19.0*t) + 101.25*t*exp(-17.0*t) + 20.25*exp(-21.0*t) - 27.0*exp(-19.0*t) + 6.75*exp(-17.0*t))"
      ]
     },
     "execution_count": 21,
     "metadata": {},
     "output_type": "execute_result"
    }
   ],
   "source": [
    "p_nt = sp.symbols('p_NotTerm', cls=sp.Function)\n",
    "sp.Eq(p_nt(t),total_solution_nonterminal)"
   ]
  },
  {
   "cell_type": "code",
   "execution_count": 22,
   "id": "63213603",
   "metadata": {},
   "outputs": [
    {
     "data": {
      "text/latex": [
       "$\\displaystyle \\operatorname{p_{Term}}{\\left(t \\right)} = 1 - \\operatorname{p_{NotTerm}}{\\left(t \\right)}$"
      ],
      "text/plain": [
       "Eq(p_Term(t), 1 - p_NotTerm(t))"
      ]
     },
     "metadata": {},
     "output_type": "display_data"
    },
    {
     "data": {
      "text/latex": [
       "$\\displaystyle \\operatorname{p_{Term}}{\\left(t \\right)} = - 270.0 t^{3} e^{- 21.0 t} - 513.0 t^{2} e^{- 21.0 t} - 351.75 t e^{- 21.0 t} + 405.0 t e^{- 19.0 t} - 101.25 t e^{- 17.0 t} + 1 - 20.25 e^{- 21.0 t} + 27.0 e^{- 19.0 t} - 6.75 e^{- 17.0 t}$"
      ],
      "text/plain": [
       "Eq(p_Term(t), -270.0*t**3*exp(-21.0*t) - 513.0*t**2*exp(-21.0*t) - 351.75*t*exp(-21.0*t) + 405.0*t*exp(-19.0*t) - 101.25*t*exp(-17.0*t) + 1 - 20.25*exp(-21.0*t) + 27.0*exp(-19.0*t) - 6.75*exp(-17.0*t))"
      ]
     },
     "metadata": {},
     "output_type": "display_data"
    }
   ],
   "source": [
    "p_t = sp.symbols('p_Term', cls=sp.Function)\n",
    "display(sp.Eq(p_t(t),1-p_nt(t)))\n",
    "display(sp.Eq(p_t(t),1-total_solution_nonterminal))"
   ]
  },
  {
   "cell_type": "code",
   "execution_count": 23,
   "id": "32dd9d3d",
   "metadata": {},
   "outputs": [
    {
     "data": {
      "text/latex": [
       "$\\displaystyle R{\\left(t \\right)} = 1 - \\operatorname{p_{Term}}{\\left(t \\right)}$"
      ],
      "text/plain": [
       "Eq(R(t), 1 - p_Term(t))"
      ]
     },
     "metadata": {},
     "output_type": "display_data"
    }
   ],
   "source": [
    "R = sp.symbols('R', cls=sp.Function)\n",
    "display(sp.Eq(R(t),1-p_t(t)))"
   ]
  },
  {
   "cell_type": "code",
   "execution_count": 24,
   "id": "abb65fbf",
   "metadata": {},
   "outputs": [
    {
     "data": {
      "image/png": "[encoded data removed]",
      "text/plain": [
       "<Figure size 1296x576 with 1 Axes>"
      ]
     },
     "metadata": {
      "needs_background": "light"
     },
     "output_type": "display_data"
    }
   ],
   "source": [
    "plt.figure(figsize=(18,8))\n",
    "\n",
    "x_values = np.linspace(0,0.5, 100)\n",
    "y_values = []\n",
    "\n",
    "for i in x_values:\n",
    "    y_values.append(total_solution_nonterminal.subs(t, i))\n",
    "    \n",
    "plt.plot(x_values, y_values)\n",
    "plt.grid()\n",
    "plt.show()"
   ]
  },
  {
   "cell_type": "code",
   "execution_count": 25,
   "id": "ab0e9480",
   "metadata": {},
   "outputs": [
    {
     "data": {
      "text/latex": [
       "$\\displaystyle 0.0854903526757074$"
      ],
      "text/plain": [
       "0.0854903526757074"
      ]
     },
     "execution_count": 25,
     "metadata": {},
     "output_type": "execute_result"
    }
   ],
   "source": [
    "sp.integrate(total_solution_nonterminal, (t, 0, sp.oo)).evalf()"
   ]
  },
  {
   "cell_type": "code",
   "execution_count": 26,
   "id": "fdcead12",
   "metadata": {},
   "outputs": [
    {
     "data": {
      "text/latex": [
       "$\\displaystyle \\int\\limits_{0}^{\\infty} R{\\left(t \\right)}\\, dt = 0.0854903526757074$"
      ],
      "text/plain": [
       "Eq(Integral(R(t), (t, 0, oo)), 0.0854903526757074)"
      ]
     },
     "execution_count": 26,
     "metadata": {},
     "output_type": "execute_result"
    }
   ],
   "source": [
    "sp.Eq(sp.Integral(R(t), (t, 0, sp.oo)), sp.integrate(total_solution_nonterminal, (t, 0, sp.oo)).evalf())"
   ]
  },
  {
   "cell_type": "code",
   "execution_count": 27,
   "id": "223d59e9",
   "metadata": {},
   "outputs": [],
   "source": [
    "term_list = []\n",
    "T = 30\n",
    "time = np.linspace(0, 0.5, T)\n",
    "\n",
    "for i in range(100):\n",
    "    a1 = ra\n",
    "    a2 = ra - nb\n",
    "    b1 = rb\n",
    "    b2 = rb - nb\n",
    "    \n",
    "    x1 = a1\n",
    "    x2 = a2\n",
    "    y1 = b1\n",
    "    y2 = b2\n",
    "    \n",
    "    term = [0]\n",
    "    \n",
    "    for t in time:\n",
    "        p = np.random.choice([0,1,2], p=[1 - 1/la - 1/lb,1/la, 1/lb])\n",
    "        \n",
    "        if p == 0:\n",
    "            term.append(term[-1])\n",
    "        elif p == 1:\n",
    "            if x1+x2 != 0 and y1+y2 != nb-1:\n",
    "                if x2 != 0:\n",
    "                    x2-=1\n",
    "                    term.append(term[-1]+1)\n",
    "                else:\n",
    "                    x1-=1\n",
    "                    term.append(term[-1]+1)\n",
    "            else:\n",
    "                term.append(term[-1])\n",
    "        elif p == 2:\n",
    "            if x1+x2 != 0 and y1+y2 != nb-1:\n",
    "                if y2 != 0:\n",
    "                    y2-=1\n",
    "                    term.append(term[-1]+1)\n",
    "                else:\n",
    "                    y1-=1\n",
    "                    term.append(term[-1]+1)\n",
    "            else:\n",
    "                term.append(term[-1])\n",
    "\n",
    "            \n",
    "    term_list.append(term)"
   ]
  },
  {
   "cell_type": "code",
   "execution_count": 28,
   "id": "845845b6",
   "metadata": {},
   "outputs": [
    {
     "data": {
      "image/png": "[encoded data removed]",
      "text/plain": [
       "<Figure size 1440x720 with 1 Axes>"
      ]
     },
     "metadata": {
      "needs_background": "light"
     },
     "output_type": "display_data"
    }
   ],
   "source": [
    "plt.figure(figsize=(20,10))\n",
    "\n",
    "for i in term_list:\n",
    "    plt.plot([0]+list(time), i)\n",
    "    \n",
    "plt.grid()"
   ]
  },
  {
   "cell_type": "code",
   "execution_count": 29,
   "id": "fe5f8fd9",
   "metadata": {},
   "outputs": [],
   "source": [
    "nonterm_time = []\n",
    "\n",
    "for i in np.array(term_list) - np.array([term_list]).max(axis=2).T:\n",
    "    nonterm_time.append(np.unique(i, return_counts=True)[1][-1]/T)"
   ]
  },
  {
   "cell_type": "code",
   "execution_count": 30,
   "id": "946ff73b",
   "metadata": {},
   "outputs": [
    {
     "data": {
      "text/plain": [
       "0.6896666666666665"
      ]
     },
     "execution_count": 30,
     "metadata": {},
     "output_type": "execute_result"
    }
   ],
   "source": [
    "np.mean(nonterm_time)"
   ]
  },
  {
   "cell_type": "code",
   "execution_count": 31,
   "id": "3279e747",
   "metadata": {},
   "outputs": [
    {
     "data": {
      "text/plain": [
       "0.09221894237808921"
      ]
     },
     "execution_count": 31,
     "metadata": {},
     "output_type": "execute_result"
    }
   ],
   "source": [
    "np.std(nonterm_time)"
   ]
  },
  {
   "cell_type": "code",
   "execution_count": null,
   "id": "c55818f0",
   "metadata": {},
   "outputs": [],
   "source": []
  },
  {
   "cell_type": "code",
   "execution_count": null,
   "id": "a6fb7495",
   "metadata": {},
   "outputs": [],
   "source": []
  },
  {
   "cell_type": "code",
   "execution_count": null,
   "id": "62c5412c",
   "metadata": {},
   "outputs": [],
   "source": []
  }
 ],
 "metadata": {
  "kernelspec": {
   "display_name": "Python 3 (ipykernel)",
   "language": "python",
   "name": "python3"
  },
  "language_info": {
   "codemirror_mode": {
    "name": "ipython",
    "version": 3
   },
   "file_extension": ".py",
   "mimetype": "text/x-python",
   "name": "python",
   "nbconvert_exporter": "python",
   "pygments_lexer": "ipython3",
   "version": "3.10.10"
  }
 },
 "nbformat": 4,
 "nbformat_minor": 5
}
